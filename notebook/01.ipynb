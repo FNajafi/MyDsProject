{
 "cells": [
  {
   "cell_type": "code",
   "execution_count": 47,
   "metadata": {},
   "outputs": [],
   "source": [
    "import numpy as np"
   ]
  },
  {
   "cell_type": "code",
   "execution_count": 48,
   "metadata": {},
   "outputs": [],
   "source": [
    "X = np.array ([\n",
    "    [1400, 3], \n",
    "    [1600, 3], \n",
    "    [1700, 2], \n",
    "    [1875, 3], \n",
    "    [1100, 2], \n",
    "    [1550, 3], \n",
    "    [2350, 4],\n",
    "    [2450, 5], \n",
    "    [1425, 3], \n",
    "    [1700, 2]\n",
    "])\n"
   ]
  },
  {
   "cell_type": "code",
   "execution_count": 34,
   "metadata": {},
   "outputs": [
    {
     "data": {
      "text/plain": [
       "array([3, 3, 2, 3, 2, 3, 4, 5, 3, 2])"
      ]
     },
     "execution_count": 34,
     "metadata": {},
     "output_type": "execute_result"
    }
   ],
   "source": [
    "X[:, 1]"
   ]
  },
  {
   "cell_type": "code",
   "execution_count": 49,
   "metadata": {},
   "outputs": [],
   "source": [
    "y = np.array([245000, 312000, 279000, 308000, 199000, 219000, 405000, 324000, 319000, 255000])"
   ]
  },
  {
   "cell_type": "code",
   "execution_count": 50,
   "metadata": {},
   "outputs": [],
   "source": [
    "#model weights and bias initialization\n",
    "w1 = 0.1\n",
    "w2 = 0.1 \n",
    "b = 0.1\n",
    "\n"
   ]
  },
  {
   "cell_type": "code",
   "execution_count": 51,
   "metadata": {},
   "outputs": [],
   "source": [
    "def hypothesis(x):\n",
    "    return w1 * x[0] + w2 * x[1] + b"
   ]
  },
  {
   "cell_type": "code",
   "execution_count": 52,
   "metadata": {},
   "outputs": [],
   "source": [
    "def cost_fucn(X, y):\n",
    "    m = len (y)\n",
    "    prediction = np.array ([hypothesis(x)for x in X])\n",
    "    return 1/(2 *m) * np.sum((prediction - y) **2)"
   ]
  },
  {
   "cell_type": "code",
   "execution_count": 53,
   "metadata": {},
   "outputs": [],
   "source": [
    "def GD(X, y, w1, w2, b, lr, epoch):\n",
    "    m = len (y)\n",
    "    for i in range (epoch):\n",
    "        prediction = np.array ([hypothesis(x) for x in X])\n",
    "        dw1 = (1 / m ) * np.sum((prediction - y)) * X [:, 0]\n",
    "        dw2 = (1 / m ) * np.sum((prediction - y)) * X [:, 1]\n",
    "        db = (1 / m ) * np.sum ((prediction - y))\n",
    "        w1 -= lr * dw1\n",
    "        w2 -= lr * dw2\n",
    "        b -= lr * db\n",
    "    return w1 , w2 , b"
   ]
  },
  {
   "cell_type": "code",
   "execution_count": 54,
   "metadata": {},
   "outputs": [],
   "source": [
    "lr = 0.00001\n",
    "epoch = 1000\n",
    "w1, w2, b = GD (X, y, w1, w2, b, lr, epoch)"
   ]
  },
  {
   "cell_type": "code",
   "execution_count": 56,
   "metadata": {},
   "outputs": [
    {
     "name": "stdout",
     "output_type": "stream",
     "text": [
      "Predicted price for a house with size 2000 sq. ft and 4 bedrooms: $8017224223.15\n"
     ]
    }
   ],
   "source": [
    "new_house_size = 2000\n",
    "num_bedrooms = 4\n",
    "predicted_price = hypothesis([new_house_size, num_bedrooms])\n",
    "print(f\"Predicted price for a house with size {new_house_size} sq. ft and {num_bedrooms} bedrooms: ${predicted_price[0]:.2f}\")\n"
   ]
  },
  {
   "cell_type": "code",
   "execution_count": null,
   "metadata": {},
   "outputs": [],
   "source": []
  }
 ],
 "metadata": {
  "kernelspec": {
   "display_name": "MyDsProject-bU3T3tkE",
   "language": "python",
   "name": "python3"
  },
  "language_info": {
   "codemirror_mode": {
    "name": "ipython",
    "version": 3
   },
   "file_extension": ".py",
   "mimetype": "text/x-python",
   "name": "python",
   "nbconvert_exporter": "python",
   "pygments_lexer": "ipython3",
   "version": "3.10.11"
  }
 },
 "nbformat": 4,
 "nbformat_minor": 2
}
