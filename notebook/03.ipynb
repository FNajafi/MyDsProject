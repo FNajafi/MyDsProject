{
 "cells": [
  {
   "cell_type": "code",
   "execution_count": 1,
   "metadata": {},
   "outputs": [],
   "source": [
    "import numpy as np\n"
   ]
  },
  {
   "cell_type": "code",
   "execution_count": 2,
   "metadata": {},
   "outputs": [],
   "source": [
    "X = np.array ([\n",
    "    [1400, 2, 3], \n",
    "    [1600, 3, 4], \n",
    "    [1700, 4, 5], \n",
    "    [1875, 5, 8], \n",
    "    [1100, 5, 3], \n",
    "    [1550, 4, 4], \n",
    "    [2350, 5, 3], \n",
    "    [2450, 4, 8], \n",
    "    [1425, 5, 8], \n",
    "    [1700, 7, 4]\n",
    "])"
   ]
  },
  {
   "cell_type": "code",
   "execution_count": 3,
   "metadata": {},
   "outputs": [],
   "source": [
    "y = np.array([245000, 312000, 279000, 308000, 199000, 219000, 405000, 324000, 319000, 255000])\n"
   ]
  },
  {
   "cell_type": "code",
   "execution_count": 4,
   "metadata": {},
   "outputs": [],
   "source": [
    "w1 = 0.1\n",
    "w2 = 0.1 \n",
    "w3 = 0.1 \n",
    "b = 0.1 "
   ]
  },
  {
   "cell_type": "code",
   "execution_count": 5,
   "metadata": {},
   "outputs": [],
   "source": [
    "def hypothesis (x):\n",
    "    return w1 * x [0] + w2 * x[1] + w3 * x[2] + b"
   ]
  },
  {
   "cell_type": "code",
   "execution_count": 6,
   "metadata": {},
   "outputs": [],
   "source": [
    "def cost_fucntion(X , y):\n",
    "    m = len (y)\n",
    "    prediction = np.array([hypothesis(x)for x in X])\n",
    "    return (1/(2*m))* np.sum (((prediction - y) ** 2))"
   ]
  },
  {
   "cell_type": "code",
   "execution_count": 7,
   "metadata": {},
   "outputs": [],
   "source": [
    "def GD (X, y, w1, w2, w3, b, lr, epoch):\n",
    "    m = len (y)\n",
    "    for i in range (epoch):\n",
    "        prediction = np.array ([hypothesis(x) for x in X])\n",
    "        dw1 = (1 / m ) * np.sum ((prediction - y) * X[:, 0])\n",
    "        dw2 = (1 / m ) * np.sum ((prediction - y) * X[:, 1])\n",
    "        dw3 = (1 / m ) * np.sum ((prediction - y) * X[:, 2])\n",
    "        db = (1/ m) * np.sum ((prediction - y))\n",
    "        w1 -= lr * dw1\n",
    "        w2 -= lr * dw2\n",
    "        w3 -= lr * dw3\n",
    "        b -= lr * db\n",
    "    return w1, w2, w3, b"
   ]
  },
  {
   "cell_type": "code",
   "execution_count": 8,
   "metadata": {},
   "outputs": [],
   "source": [
    "lr = 0.00001\n",
    "epoch = 1000\n",
    "w1, w2, w3, b = GD (X, y, w1, w2, w3, b, lr, epoch)"
   ]
  },
  {
   "cell_type": "code",
   "execution_count": 9,
   "metadata": {},
   "outputs": [
    {
     "name": "stdout",
     "output_type": "stream",
     "text": [
      "the house with the size of 3000 , and 5 bedrooms , and 7 living rroms is coming with the $: 15248744572.00\n"
     ]
    }
   ],
   "source": [
    "new_house_size = 3000\n",
    "new_house_bed = 5\n",
    "new_house_living= 7 \n",
    "new_house_price = hypothesis ([new_house_size, new_house_bed, new_house_living])\n",
    "print (f\"the house with the size of {new_house_size} , and {new_house_bed} bedrooms , and {new_house_living} living rroms is coming with the $: {new_house_price:.2f}\")"
   ]
  },
  {
   "cell_type": "markdown",
   "metadata": {},
   "source": [
    "# Evalauaiton of the model"
   ]
  },
  {
   "cell_type": "code",
   "execution_count": 12,
   "metadata": {},
   "outputs": [],
   "source": [
    "y_actual = y\n",
    "y_predicted = np.array([hypothesis(x) for x in X])"
   ]
  },
  {
   "cell_type": "code",
   "execution_count": 13,
   "metadata": {},
   "outputs": [
    {
     "data": {
      "text/plain": [
       "array([245000, 312000, 279000, 308000, 199000, 219000, 405000, 324000,\n",
       "       319000, 255000])"
      ]
     },
     "execution_count": 13,
     "metadata": {},
     "output_type": "execute_result"
    }
   ],
   "source": [
    "y_actual"
   ]
  },
  {
   "cell_type": "code",
   "execution_count": 14,
   "metadata": {},
   "outputs": [
    {
     "data": {
      "text/plain": [
       "array([7.11607420e+09, 8.13267324e+09, 8.64098643e+09, 9.53054338e+09,\n",
       "       5.59125457e+09, 7.87854296e+09, 1.19448278e+10, 1.24531744e+10,\n",
       "       7.24325703e+09, 8.64100968e+09])"
      ]
     },
     "execution_count": 14,
     "metadata": {},
     "output_type": "execute_result"
    }
   ],
   "source": [
    "y_predicted"
   ]
  },
  {
   "cell_type": "code",
   "execution_count": 16,
   "metadata": {},
   "outputs": [
    {
     "name": "stdout",
     "output_type": "stream",
     "text": [
      "The mean abslout erro for the model is : 8716947864.134075\n"
     ]
    }
   ],
   "source": [
    "def MAE (y_actual , y_predicted):\n",
    "    return np.mean(np.absolute(y_actual - y_predicted))\n",
    "print(f\"The mean abslout erro for the model is : {MAE(y_actual, y_predicted)}\")"
   ]
  },
  {
   "cell_type": "code",
   "execution_count": 17,
   "metadata": {},
   "outputs": [
    {
     "name": "stdout",
     "output_type": "stream",
     "text": [
      "the root mean square error is : 8946792372.115381\n"
     ]
    }
   ],
   "source": [
    "def RMSE (y_actual, y_predicted):\n",
    "    return np.sqrt(np.mean((y_actual - y_predicted) **2))\n",
    "print (f\"the root mean square error is : {RMSE(y_actual, y_predicted)}\")"
   ]
  },
  {
   "cell_type": "code",
   "execution_count": 18,
   "metadata": {},
   "outputs": [],
   "source": [
    "def r_sqrt (y_actual, y_predicted):\n",
    "    y_mean = np.mean(y_actual)\n",
    "    ssr = np.sum(((y_actual - y_predicted) **2))\n",
    "    sst = np.sum (((y_actual - y_mean) **2))\n",
    "    r2 = 1 - (ssr / sst )\n",
    "    return r2"
   ]
  },
  {
   "cell_type": "code",
   "execution_count": 19,
   "metadata": {},
   "outputs": [
    {
     "name": "stdout",
     "output_type": "stream",
     "text": [
      "the r-suared of the model is : -24553333153.320324\n"
     ]
    }
   ],
   "source": [
    "print (f\"the r-suared of the model is : {r_sqrt(y_actual, y_predicted)}\")"
   ]
  }
 ],
 "metadata": {
  "kernelspec": {
   "display_name": "MyDsProject-bU3T3tkE",
   "language": "python",
   "name": "python3"
  },
  "language_info": {
   "codemirror_mode": {
    "name": "ipython",
    "version": 3
   },
   "file_extension": ".py",
   "mimetype": "text/x-python",
   "name": "python",
   "nbconvert_exporter": "python",
   "pygments_lexer": "ipython3",
   "version": "3.10.11"
  }
 },
 "nbformat": 4,
 "nbformat_minor": 2
}
